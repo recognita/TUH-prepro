{
 "cells": [
  {
   "cell_type": "code",
   "execution_count": null,
   "id": "54b9346d-e945-46e9-ac13-6bc13f4eda10",
   "metadata": {},
   "outputs": [],
   "source": [
    "import glob\n",
    "import logging\n",
    "import os\n",
    "from joblib import Parallel, delayed\n",
    "from pathlib import Path\n",
    "import mne\n",
    "import numpy as np\n",
    "from tqdm import tqdm\n",
    "import pandas as pd\n"
   ]
  },
  {
   "cell_type": "code",
   "execution_count": null,
   "id": "14a918bc-e228-47fa-8e26-e9ee0f173851",
   "metadata": {},
   "outputs": [],
   "source": [
    "def create_data_frame(file_paths):\n",
    "    data = file_paths\n",
    "    df = pd.DataFrame(data, columns=['file_path'])\n",
    "    df['ID'] = ''\n",
    "    df['subject_ID'] = ''\n",
    "    df['montage'] = ''\n",
    "    df['uncutted_time'] = ''\n",
    "    df['sample_rate'] = ''\n",
    "    df['montage'] = ''\n",
    "    df['device'] = ''\n",
    "    df['overcome'] = ''\n",
    "    for index, edf_path in tqdm(enumerate(file_paths), total=len(file_paths)):\n",
    "        flip = mne.io.read_raw_edf(edf_path, eog=None, misc=None, stim_channel='auto', preload=False, verbose=None)\n",
    "        file_name = os.path.basename(edf_path)  \n",
    "        id_name, _ = os.path.splitext(file_name) \n",
    "        parts = edf_path.split('/')\n",
    "        montage = parts[0]\n",
    "        df.at[index, 'filename'] = edf_path \n",
    "        df['subject_ID'] = edf_path.split('_')[0]\n",
    "        df.at[index, 'ID'] = id_name \n",
    "        df.at[index, 'montage'] = montage\n",
    "        df.at[index, 'uncutted_time'] = flip.__len__()\n",
    "        df.at[index, 'sample_rate'] = flip.info['sfreq']  \n",
    "        df.at[index, 'device'] = flip.info['device_info']  \n",
    "        \n",
    "         df['overcome'] =\n",
    "    print(\"DataFrame:\", df)\n",
    "    df.to_csv('mozgi.csv', index=False)\n",
    "    return df"
   ]
  },
  {
   "cell_type": "code",
   "execution_count": null,
   "id": "1c5aac17-c853-4812-812e-f1f8c540816a",
   "metadata": {},
   "outputs": [],
   "source": [
    "ds_root= '../'\n",
    "file_paths = list(glob.glob(os.path.join(ds_root, '**/*.edf'), recursive=True))\n",
    "a= create_data_frame (file_paths)"
   ]
  }
 ],
 "metadata": {
  "kernelspec": {
   "display_name": "Python 3 (ipykernel)",
   "language": "python",
   "name": "python3"
  },
  "language_info": {
   "codemirror_mode": {
    "name": "ipython",
    "version": 3
   },
   "file_extension": ".py",
   "mimetype": "text/x-python",
   "name": "python",
   "nbconvert_exporter": "python",
   "pygments_lexer": "ipython3",
   "version": "3.8.6"
  }
 },
 "nbformat": 4,
 "nbformat_minor": 5
}
