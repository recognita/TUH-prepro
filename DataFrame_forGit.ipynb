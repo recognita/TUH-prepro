{
 "cells": [
  {
   "cell_type": "code",
   "execution_count": 16,
   "id": "54b9346d-e945-46e9-ac13-6bc13f4eda10",
   "metadata": {},
   "outputs": [],
   "source": [
    "import glob\n",
    "import logging\n",
    "import os\n",
    "from joblib import Parallel, delayed\n",
    "from pathlib import Path\n",
    "import mne\n",
    "import numpy as np\n",
    "from tqdm import tqdm\n",
    "import pandas as pd\n"
   ]
  },
  {
   "cell_type": "code",
   "execution_count": 19,
   "id": "14a918bc-e228-47fa-8e26-e9ee0f173851",
   "metadata": {},
   "outputs": [],
   "source": [
    "def create_data_frame(file_paths):\n",
    "    data = file_paths\n",
    "    df = pd.DataFrame(data, columns=['file_path'])\n",
    "    #df['filename'] = ''\n",
    "    df['ID'] = ''\n",
    "    df['subject_ID'] = ''\n",
    "    df['montage'] = ''\n",
    "    df['uncutted_time'] = ''\n",
    "    df['sample_rate'] = ''\n",
    "    df['montage'] = ''\n",
    "    df['device'] = ''\n",
    "    df['overcome'] = ''\n",
    "    for index, edf_path in tqdm(enumerate(file_paths), total=len(file_paths)):\n",
    "        flip = mne.io.read_raw_edf(edf_path, eog=None, misc=None, stim_channel='auto', preload=False, verbose=None)\n",
    "        file_name = os.path.basename(edf_path)  # Get the file name with extension\n",
    "        id_name, _ = os.path.splitext(file_name)  # Remove the extension\n",
    "        parts = edf_path.split('/')\n",
    "        montage = parts[0]\n",
    "        df.at[index, 'filename'] = edf_path \n",
    "        df['subject_ID'] = edf_path.split('_')[0]\n",
    "        df.at[index, 'ID'] = id_name  # Пример заполнения ID\n",
    "        df.at[index, 'montage'] = montage\n",
    "        #df.at[index, 'ID'] = flip.info['file_id']  # Пример заполнения ID\n",
    "        df.at[index, 'uncutted_time'] = flip.__len__()\n",
    "        df.at[index, 'sample_rate'] = flip.info['sfreq']  # Пример заполнения Sample_length\n",
    "        df.at[index, 'device'] = flip.info['device_info']  # Пример заполнения Sample_length\n",
    "        \n",
    "         df['overcome'] =\n",
    "    print(\"DataFrame:\", df)\n",
    "    df.to_csv('mozgi.csv', index=False)\n",
    "    return df"
   ]
  },
  {
   "cell_type": "code",
   "execution_count": 20,
   "id": "1c5aac17-c853-4812-812e-f1f8c540816a",
   "metadata": {},
   "outputs": [
    {
     "name": "stderr",
     "output_type": "stream",
     "text": [
      "  0%|                                                                                            | 0/6 [00:00<?, ?it/s]"
     ]
    },
    {
     "name": "stdout",
     "output_type": "stream",
     "text": [
      "Extracting EDF parameters from C:\\Users\\hdnsk\\Downloads\\aaaaaaaa_s001_t000.edf...\n",
      "EDF file detected\n",
      "Setting channel info structure...\n",
      "Creating raw.info structure...\n",
      "Extracting EDF parameters from C:\\Users\\hdnsk\\Downloads\\aaaaaaam_s001_t000.edf...\n",
      "EDF file detected\n",
      "Setting channel info structure...\n",
      "Creating raw.info structure...\n",
      "Extracting EDF parameters from C:\\Users\\hdnsk\\Downloads\\aaaaaadw_s001_t001.edf...\n",
      "EDF file detected\n",
      "Setting channel info structure...\n",
      "Creating raw.info structure...\n",
      "Extracting EDF parameters from C:\\Users\\hdnsk\\Downloads\\aaaaaaed_s001_t000.edf...\n",
      "EDF file detected\n",
      "Setting channel info structure...\n",
      "Creating raw.info structure...\n",
      "Extracting EDF parameters from C:\\Users\\hdnsk\\GPT_Dataset\\aaaaafod_s003_t000.edf...\n",
      "EDF file detected\n",
      "Setting channel info structure...\n",
      "Creating raw.info structure...\n",
      "Extracting EDF parameters from C:\\Users\\hdnsk\\GPT_Dataset\\shapka\\aaaaaaac_s005_t000.edf...\n",
      "EDF file detected\n",
      "Setting channel info structure...\n",
      "Creating raw.info structure...\n"
     ]
    },
    {
     "name": "stderr",
     "output_type": "stream",
     "text": [
      "100%|████████████████████████████████████████████████████████████████████████████████████| 6/6 [00:00<00:00, 55.55it/s]"
     ]
    },
    {
     "name": "stdout",
     "output_type": "stream",
     "text": [
      "DataFrame:                                       file_path                  ID  \\\n",
      "0           ..\\Downloads\\aaaaaaaa_s001_t000.edf  aaaaaaaa_s001_t000   \n",
      "1           ..\\Downloads\\aaaaaaam_s001_t000.edf  aaaaaaam_s001_t000   \n",
      "2           ..\\Downloads\\aaaaaadw_s001_t001.edf  aaaaaadw_s001_t001   \n",
      "3           ..\\Downloads\\aaaaaaed_s001_t000.edf  aaaaaaed_s001_t000   \n",
      "4         ..\\GPT_Dataset\\aaaaafod_s003_t000.edf  aaaaafod_s003_t000   \n",
      "5  ..\\GPT_Dataset\\shapka\\aaaaaaac_s005_t000.edf  aaaaaaac_s005_t000   \n",
      "\n",
      "                                        montage uncutted_time sample_rate  \\\n",
      "0           ..\\Downloads\\aaaaaaaa_s001_t000.edf        323840       256.0   \n",
      "1           ..\\Downloads\\aaaaaaam_s001_t000.edf        270750       250.0   \n",
      "2           ..\\Downloads\\aaaaaadw_s001_t001.edf        353000       250.0   \n",
      "3           ..\\Downloads\\aaaaaaed_s001_t000.edf         30000       250.0   \n",
      "4         ..\\GPT_Dataset\\aaaaafod_s003_t000.edf        310750       250.0   \n",
      "5  ..\\GPT_Dataset\\shapka\\aaaaaaac_s005_t000.edf         84000       250.0   \n",
      "\n",
      "  device                                      filename  \n",
      "0   None           ..\\Downloads\\aaaaaaaa_s001_t000.edf  \n",
      "1   None           ..\\Downloads\\aaaaaaam_s001_t000.edf  \n",
      "2   None           ..\\Downloads\\aaaaaadw_s001_t001.edf  \n",
      "3   None           ..\\Downloads\\aaaaaaed_s001_t000.edf  \n",
      "4   None         ..\\GPT_Dataset\\aaaaafod_s003_t000.edf  \n",
      "5   None  ..\\GPT_Dataset\\shapka\\aaaaaaac_s005_t000.edf  \n"
     ]
    },
    {
     "name": "stderr",
     "output_type": "stream",
     "text": [
      "\n"
     ]
    }
   ],
   "source": [
    "ds_root= '../'\n",
    "file_paths = list(glob.glob(os.path.join(ds_root, '**/*.edf'), recursive=True))\n",
    "a= create_data_frame (file_paths)"
   ]
  },
  {
   "cell_type": "code",
   "execution_count": null,
   "id": "0e516fe5-324e-4e6a-866a-1281569345a5",
   "metadata": {},
   "outputs": [],
   "source": [
    "datasets/EEG_TUH/isip.piconepress.com/projects/tuh_eeg/downloads/tuh_eeg/v2.0.0/edf/000\n",
    "edf/000/aaaaaaaa/s001_2015_12_30/01_tcp_ar/aaaaaaaa_s001_t000.edf\n",
    "datasets/EEG_TUH/isip.piconepress.com/projects/tuh_eeg/downloads/tuh_eeg/v2.0.0/edf/000/aaaaaaaa/s001_2015_12_30/01_tcp_ar/aaaaaaaa_s001_t000.edf"
   ]
  }
 ],
 "metadata": {
  "kernelspec": {
   "display_name": "Python 3 (ipykernel)",
   "language": "python",
   "name": "python3"
  },
  "language_info": {
   "codemirror_mode": {
    "name": "ipython",
    "version": 3
   },
   "file_extension": ".py",
   "mimetype": "text/x-python",
   "name": "python",
   "nbconvert_exporter": "python",
   "pygments_lexer": "ipython3",
   "version": "3.11.5"
  }
 },
 "nbformat": 4,
 "nbformat_minor": 5
}
